{
  "cells": [
    {
      "cell_type": "markdown",
      "metadata": {
        "id": "view-in-github",
        "colab_type": "text"
      },
      "source": [
        "<a href=\"https://colab.research.google.com/github/shima-aflatounian/K-core-Networks/blob/main/k_core_range.ipynb\" target=\"_parent\"><img src=\"https://colab.research.google.com/assets/colab-badge.svg\" alt=\"Open In Colab\"/></a>"
      ]
    },
    {
      "cell_type": "code",
      "source": [
        "#Poe, *chatGPT* Code\n",
        "import networkx as nx\n",
        "import matplotlib.pyplot as plt\n",
        "import random\n",
        "\n",
        "# Generate a random network graph\n",
        "n = 10  # Number of nodes\n",
        "p = 0.3  # Probability of edge creation\n",
        "G = nx.erdos_renyi_graph(n, p)\n",
        "\n",
        "# Calculate the k-core decomposition\n",
        "core_number = nx.core_number(G)\n",
        "\n",
        "# Visualize the network graph\n",
        "pos = nx.spring_layout(G)\n",
        "nx.draw_networkx_nodes(G, pos, node_color='lightblue', node_size=500)\n",
        "nx.draw_networkx_edges(G, pos, edge_color='gray')\n",
        "nx.draw_networkx_labels(G, pos, font_color='black', font_size=10)\n",
        "plt.title('Random Network Visualization')\n",
        "plt.axis('off')\n",
        "plt.show()\n",
        "\n",
        "# Print the core number of each node\n",
        "print('Node\\tCore Number')\n",
        "for node, core in core_number.items():\n",
        "    print(f'{node}\\t\\t{core}')"
      ],
      "metadata": {
        "colab": {
          "base_uri": "https://localhost:8080/",
          "height": 624
        },
        "id": "b5uaxG-v2Ya5",
        "outputId": "c8e6ade5-4950-4a7c-a993-021f20aea04f"
      },
      "execution_count": null,
      "outputs": [
        {
          "output_type": "display_data",
          "data": {
            "text/plain": [
              "<Figure size 640x480 with 1 Axes>"
            ],
            "image/png": "[encoded data removed]"
          },
          "metadata": {}
        },
        {
          "output_type": "stream",
          "name": "stdout",
          "text": [
            "Node\tCore Number\n",
            "0\t\t2\n",
            "1\t\t1\n",
            "2\t\t2\n",
            "3\t\t1\n",
            "4\t\t2\n",
            "5\t\t2\n",
            "6\t\t2\n",
            "7\t\t2\n",
            "8\t\t2\n",
            "9\t\t2\n"
          ]
        }
      ]
    },
    {
      "cell_type": "code",
      "source": [
        "import networkx as nx\n",
        "import numpy as np\n",
        "import os\n",
        "import matplotlib.pyplot as plt\n",
        "from google.colab import drive\n",
        "\n",
        "# Mount Google Drive\n",
        "drive.mount('/content/gdrive')\n",
        "\n",
        "num_samples = 20\n",
        "num_nodes = 100\n",
        "p = 0.2\n",
        "\n",
        "network_properties = {\n",
        "    'k-core range': nx.core_number\n",
        "}\n",
        "\n",
        "# Create a directory to save the generated networks\n",
        "save_directory = '/content/gdrive/My Drive/generated_networks'\n",
        "os.makedirs(save_directory, exist_ok=True)\n",
        "\n",
        "results = {}\n",
        "\n",
        "for i in range(num_samples):\n",
        "    # Generate Erdos-Renyi graph\n",
        "    G = nx.erdos_renyi_graph(num_nodes, p)\n",
        "\n",
        "    # Save the generated network\n",
        "    save_path = os.path.join(save_directory, f'er_sample_{i}.gml')\n",
        "    nx.write_gml(G, save_path)\n",
        "\n",
        "    # Visualize the graph\n",
        "    plt.figure(figsize=(6, 4))\n",
        "    pos = nx.spring_layout(G)\n",
        "    nx.draw(G, pos, with_labels=True, node_color='lightblue', node_size=200, edge_color='gray')\n",
        "    plt.title(f'Erdos-Renyi Graph Sample {i}')\n",
        "    plt.savefig(os.path.join(save_directory, f'er_sample_{i}.png'))\n",
        "    plt.close()\n",
        "\n",
        "    # Calculate k-core range\n",
        "    kcore_range = nx.core_number(G)\n",
        "    kcore_values = list(kcore_range.values())\n",
        "    min_kcore = min(kcore_values)\n",
        "    max_kcore = max(kcore_values)\n",
        "\n",
        "    results[f'sample_{i}'] = {\n",
        "        'min_kcore': min_kcore,\n",
        "        'max_kcore': max_kcore\n",
        "    }\n",
        "\n",
        "# Print results\n",
        "print('K-Core Range for Erdos-Renyi Graphs:')\n",
        "for sample, kcore_range in results.items():\n",
        "    print(f'{sample}:')\n",
        "    print(f'  Min K-Core: {kcore_range[\"min_kcore\"]}')\n",
        "    print(f'  Max K-Core: {kcore_range[\"max_kcore\"]}')\n",
        "    print('')\n"
      ],
      "metadata": {
        "colab": {
          "base_uri": "https://localhost:8080/"
        },
        "id": "R_f8cZyWC-0L",
        "outputId": "2c5700cf-e6b6-4031-96af-3fe9ec30758d"
      },
      "execution_count": null,
      "outputs": [
        {
          "output_type": "stream",
          "name": "stdout",
          "text": [
            "Mounted at /content/gdrive\n",
            "K-Core Range for Erdos-Renyi Graphs:\n",
            "sample_0:\n",
            "  Min K-Core: 9\n",
            "  Max K-Core: 14\n",
            "\n",
            "sample_1:\n",
            "  Min K-Core: 12\n",
            "  Max K-Core: 15\n",
            "\n",
            "sample_2:\n",
            "  Min K-Core: 13\n",
            "  Max K-Core: 14\n",
            "\n",
            "sample_3:\n",
            "  Min K-Core: 12\n",
            "  Max K-Core: 14\n",
            "\n",
            "sample_4:\n",
            "  Min K-Core: 9\n",
            "  Max K-Core: 14\n",
            "\n",
            "sample_5:\n",
            "  Min K-Core: 11\n",
            "  Max K-Core: 15\n",
            "\n",
            "sample_6:\n",
            "  Min K-Core: 11\n",
            "  Max K-Core: 14\n",
            "\n",
            "sample_7:\n",
            "  Min K-Core: 12\n",
            "  Max K-Core: 15\n",
            "\n",
            "sample_8:\n",
            "  Min K-Core: 10\n",
            "  Max K-Core: 14\n",
            "\n",
            "sample_9:\n",
            "  Min K-Core: 9\n",
            "  Max K-Core: 15\n",
            "\n",
            "sample_10:\n",
            "  Min K-Core: 13\n",
            "  Max K-Core: 14\n",
            "\n",
            "sample_11:\n",
            "  Min K-Core: 12\n",
            "  Max K-Core: 14\n",
            "\n",
            "sample_12:\n",
            "  Min K-Core: 9\n",
            "  Max K-Core: 14\n",
            "\n",
            "sample_13:\n",
            "  Min K-Core: 10\n",
            "  Max K-Core: 14\n",
            "\n",
            "sample_14:\n",
            "  Min K-Core: 10\n",
            "  Max K-Core: 14\n",
            "\n",
            "sample_15:\n",
            "  Min K-Core: 12\n",
            "  Max K-Core: 15\n",
            "\n",
            "sample_16:\n",
            "  Min K-Core: 8\n",
            "  Max K-Core: 14\n",
            "\n",
            "sample_17:\n",
            "  Min K-Core: 11\n",
            "  Max K-Core: 15\n",
            "\n",
            "sample_18:\n",
            "  Min K-Core: 12\n",
            "  Max K-Core: 14\n",
            "\n",
            "sample_19:\n",
            "  Min K-Core: 9\n",
            "  Max K-Core: 15\n",
            "\n"
          ]
        }
      ]
    }
  ],
  "metadata": {
    "colab": {
      "provenance": [],
      "authorship_tag": "ABX9TyMcI10XjuceicOS08khylBB",
      "include_colab_link": true
    },
    "kernelspec": {
      "display_name": "Python 3",
      "name": "python3"
    },
    "language_info": {
      "name": "python"
    }
  },
  "nbformat": 4,
  "nbformat_minor": 0
}